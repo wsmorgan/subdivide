{
 "cells": [
  {
   "cell_type": "code",
   "execution_count": 1,
   "metadata": {
    "collapsed": false,
    "deletable": true,
    "editable": true
   },
   "outputs": [],
   "source": [
    "from subdivide.polygon import Polygon"
   ]
  },
  {
   "cell_type": "code",
   "execution_count": 6,
   "metadata": {
    "collapsed": false,
    "deletable": true,
    "editable": true
   },
   "outputs": [
    {
     "name": "stdout",
     "output_type": "stream",
     "text": [
      "('n subdivisions', 1)\n",
      "('remaining_verts', [[0.11111116409301758, 1.0], [0.11111116409301758, 0.0], [1, 0], [1, 1]])\n",
      "('n subdivisions', 2)\n",
      "('remaining_verts', [[0.11111116409301758, 0.875], [0.11111116409301758, 0.0], [1, 0], [1.0, 0.875]])\n",
      "('n subdivisions', 3)\n",
      "('remaining_verts', [[0.23809522295755414, 0.875], [0.23809522295755414, 0.0], [1, 0], [1.0, 0.875]])\n",
      "('n subdivisions', 4)\n",
      "('remaining_verts', [[0.23809522295755414, 0.72916659712791443], [0.23809522295755414, 0.0], [1, 0], [1.0, 0.72916659712791443]])\n",
      "('n subdivisions', 5)\n",
      "('remaining_verts', [[0.23809522295755414, 0.72916659712791443], [0.23809522295755414, 0.0], [0.84761900826105996, 0.0], [0.84761900826105996, 0.72916659712791443]])\n",
      "('n subdivisions', 6)\n",
      "('remaining_verts', [[0.23809522295755414, 0.54687494784593582], [0.23809522295755414, 0.0], [0.84761900826105996, 0.0], [0.84761900826105996, 0.54687494784593582]])\n",
      "('n subdivisions', 7)\n",
      "('remaining_verts', [[0.44126991493991929, 0.54687494784593582], [0.44126991493991929, 0.0], [0.84761900826105996, 0.0], [0.84761900826105996, 0.54687494784593582]])\n",
      "('seg[i]', ([0.44126991493991929, 0.54687494784593582], [0.44126991493991929, 0.0]))\n",
      "('seg[j]', ([0.84761900826105996, 0.0], [0.84761900826105996, 0.54687494784593582]))\n",
      "('new_segs', [([0.84761900826106007, 0.54687494784593582], [0.44126991493991929, 0.54687494784593582]), ([0.44126991493991929, 0.0], [0.84761900826106007, 0]), ([0.84761900826105996, 0.0], [0.44126991493991935, 0]), ([0.84761900826105996, 0.54687494784593582], [0.44126991493991935, 0.54687494784593582])])\n",
      "('divisions', [[([0.84761900826106007, 0.54687494784593582], [0.44126991493991929, 0.54687494784593582]), ([0.44126991493991929, 0.54687494784593582], [0.44126991493991929, 0.0]), ([0.44126991493991929, 0.0], [0.84761900826106007, 0]), ([0.84761900826106007, 0], [0.84761900826106007, 0.54687494784593582])], [([0.44126991493991929, 0.0], [0.84761900826106007, 0]), ([0.84761900826105996, 0.0], [0.84761900826105996, 0.54687494784593582]), ([0.84761900826106007, 0.54687494784593582], [0.44126991493991929, 0.54687494784593582]), ([0.44126991493991929, 0.54687494784593582], [0.44126991493991929, 0.0])], [([0.44126991493991935, 0], [0.84761900826105996, 0.0]), ([0.84761900826105996, 0.0], [0.84761900826105996, 0.54687494784593582]), ([0.84761900826106007, 0.54687494784593582], [0.44126991493991929, 0.54687494784593582]), ([0.44126991493991929, 0.54687494784593582], [0.44126991493991935, 0])], [([0.84761900826105996, 0.54687494784593582], [0.44126991493991935, 0.54687494784593582]), ([0.44126991493991929, 0.54687494784593582], [0.44126991493991929, 0.0]), ([0.44126991493991929, 0.0], [0.84761900826106007, 0]), ([0.84761900826105996, 0.0], [0.84761900826105996, 0.54687494784593582])]])\n"
     ]
    },
    {
     "ename": "RuntimeError",
     "evalue": "The code found more than 3 divisions of the polygon for a given pair of line segments. This should not be possible.",
     "output_type": "error",
     "traceback": [
      "\u001b[0;31m---------------------------------------------------------------------------\u001b[0m",
      "\u001b[0;31mRuntimeError\u001b[0m                              Traceback (most recent call last)",
      "\u001b[0;32m<ipython-input-6-375077091710>\u001b[0m in \u001b[0;36m<module>\u001b[0;34m()\u001b[0m\n\u001b[1;32m      1\u001b[0m \u001b[0mverts\u001b[0m \u001b[0;34m=\u001b[0m \u001b[0;34m[\u001b[0m\u001b[0;34m[\u001b[0m\u001b[0;36m0\u001b[0m\u001b[0;34m,\u001b[0m\u001b[0;36m0\u001b[0m\u001b[0;34m]\u001b[0m\u001b[0;34m,\u001b[0m\u001b[0;34m[\u001b[0m\u001b[0;36m1\u001b[0m\u001b[0;34m,\u001b[0m\u001b[0;36m0\u001b[0m\u001b[0;34m]\u001b[0m\u001b[0;34m,\u001b[0m\u001b[0;34m[\u001b[0m\u001b[0;36m1\u001b[0m\u001b[0;34m,\u001b[0m\u001b[0;36m1\u001b[0m\u001b[0;34m]\u001b[0m\u001b[0;34m,\u001b[0m\u001b[0;34m[\u001b[0m\u001b[0;36m0\u001b[0m\u001b[0;34m,\u001b[0m\u001b[0;36m1\u001b[0m\u001b[0;34m]\u001b[0m\u001b[0;34m]\u001b[0m\u001b[0;34m\u001b[0m\u001b[0m\n\u001b[1;32m      2\u001b[0m \u001b[0mp\u001b[0m \u001b[0;34m=\u001b[0m \u001b[0mPolygon\u001b[0m\u001b[0;34m(\u001b[0m\u001b[0mverts\u001b[0m\u001b[0;34m)\u001b[0m\u001b[0;34m\u001b[0m\u001b[0m\n\u001b[0;32m----> 3\u001b[0;31m \u001b[0mp\u001b[0m\u001b[0;34m.\u001b[0m\u001b[0msubdivide\u001b[0m\u001b[0;34m(\u001b[0m\u001b[0;36m9\u001b[0m\u001b[0;34m)\u001b[0m\u001b[0;34m\u001b[0m\u001b[0m\n\u001b[0m",
      "\u001b[0;32m/Users/wileymorgan/codes/subdivide/subdivide/polygon.py\u001b[0m in \u001b[0;36msubdivide\u001b[0;34m(self, N)\u001b[0m\n\u001b[1;32m     52\u001b[0m             \u001b[0mremaining_verts\u001b[0m \u001b[0;34m=\u001b[0m \u001b[0mdeepcopy\u001b[0m\u001b[0;34m(\u001b[0m\u001b[0mself\u001b[0m\u001b[0;34m.\u001b[0m\u001b[0mvertices\u001b[0m\u001b[0;34m)\u001b[0m\u001b[0;34m\u001b[0m\u001b[0m\n\u001b[1;32m     53\u001b[0m             \u001b[0;32mwhile\u001b[0m \u001b[0mlen\u001b[0m\u001b[0;34m(\u001b[0m\u001b[0msub_polys\u001b[0m\u001b[0;34m)\u001b[0m \u001b[0;34m<\u001b[0m \u001b[0mN\u001b[0m\u001b[0;34m-\u001b[0m\u001b[0;36m1\u001b[0m\u001b[0;34m:\u001b[0m\u001b[0;34m\u001b[0m\u001b[0m\n\u001b[0;32m---> 54\u001b[0;31m                 \u001b[0msub_poly\u001b[0m\u001b[0;34m,\u001b[0m \u001b[0mremaining_verts\u001b[0m \u001b[0;34m=\u001b[0m \u001b[0mself\u001b[0m\u001b[0;34m.\u001b[0m\u001b[0m_find_subdivision\u001b[0m\u001b[0;34m(\u001b[0m\u001b[0mremaining_verts\u001b[0m\u001b[0;34m,\u001b[0m\u001b[0msubarea\u001b[0m\u001b[0;34m)\u001b[0m\u001b[0;34m\u001b[0m\u001b[0m\n\u001b[0m\u001b[1;32m     55\u001b[0m                 \u001b[0;32mprint\u001b[0m\u001b[0;34m(\u001b[0m\u001b[0;34m\"n subdivisions\"\u001b[0m\u001b[0;34m,\u001b[0m\u001b[0mlen\u001b[0m\u001b[0;34m(\u001b[0m\u001b[0msub_polys\u001b[0m\u001b[0;34m)\u001b[0m\u001b[0;34m+\u001b[0m\u001b[0;36m1\u001b[0m\u001b[0;34m)\u001b[0m\u001b[0;34m\u001b[0m\u001b[0m\n\u001b[1;32m     56\u001b[0m                 \u001b[0;32mprint\u001b[0m\u001b[0;34m(\u001b[0m\u001b[0;34m\"remaining_verts\"\u001b[0m\u001b[0;34m,\u001b[0m\u001b[0mremaining_verts\u001b[0m\u001b[0;34m)\u001b[0m\u001b[0;34m\u001b[0m\u001b[0m\n",
      "\u001b[0;32m/Users/wileymorgan/codes/subdivide/subdivide/polygon.py\u001b[0m in \u001b[0;36m_find_subdivision\u001b[0;34m(self, verts, area)\u001b[0m\n\u001b[1;32m    134\u001b[0m                         \u001b[0;32mprint\u001b[0m\u001b[0;34m(\u001b[0m\u001b[0;34m\"new_segs\"\u001b[0m\u001b[0;34m,\u001b[0m\u001b[0mnew_segments\u001b[0m\u001b[0;34m)\u001b[0m\u001b[0;34m\u001b[0m\u001b[0m\n\u001b[1;32m    135\u001b[0m                         \u001b[0;32mprint\u001b[0m\u001b[0;34m(\u001b[0m\u001b[0;34m\"divisions\"\u001b[0m\u001b[0;34m,\u001b[0m\u001b[0mdivisions\u001b[0m\u001b[0;34m)\u001b[0m\u001b[0;34m\u001b[0m\u001b[0m\n\u001b[0;32m--> 136\u001b[0;31m                         raise RuntimeError(\"The code found more than 3 divisions of \"\n\u001b[0m\u001b[1;32m    137\u001b[0m                                            \u001b[0;34m\"the polygon for a given pair of line \"\u001b[0m\u001b[0;34m\u001b[0m\u001b[0m\n\u001b[1;32m    138\u001b[0m                                            \"segments. This should not be possible.\")\n",
      "\u001b[0;31mRuntimeError\u001b[0m: The code found more than 3 divisions of the polygon for a given pair of line segments. This should not be possible."
     ]
    }
   ],
   "source": [
    "verts = [[0,0],[1,0],[1,1],[0,1]]\n",
    "p = Polygon(verts)\n",
    "p.subdivide(9)"
   ]
  },
  {
   "cell_type": "code",
   "execution_count": null,
   "metadata": {
    "collapsed": true
   },
   "outputs": [],
   "source": []
  }
 ],
 "metadata": {
  "kernelspec": {
   "display_name": "Python 2",
   "language": "python",
   "name": "python2"
  },
  "language_info": {
   "codemirror_mode": {
    "name": "ipython",
    "version": 2
   },
   "file_extension": ".py",
   "mimetype": "text/x-python",
   "name": "python",
   "nbconvert_exporter": "python",
   "pygments_lexer": "ipython2",
   "version": "2.7.9"
  }
 },
 "nbformat": 4,
 "nbformat_minor": 2
}
