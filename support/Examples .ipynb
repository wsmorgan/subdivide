{
 "cells": [
  {
   "cell_type": "code",
   "execution_count": 1,
   "metadata": {
    "collapsed": false,
    "deletable": true,
    "editable": true
   },
   "outputs": [],
   "source": [
    "from subdivide.polygon import Polygon"
   ]
  },
  {
   "cell_type": "code",
   "execution_count": 2,
   "metadata": {
    "collapsed": false,
    "deletable": true,
    "editable": true
   },
   "outputs": [
    {
     "name": "stdout",
     "output_type": "stream",
     "text": [
      "('seg i', ([0, 0], [1, 0]))\n",
      "('seg j', ([1, 0], [1, 1]))\n",
      "('new segs', [([1, 1], [0, 0])])\n",
      "('divisions', [[([1, 1], [0, 0]), ([0, 0], [1, 0]), ([1, 0], [1, 1])], [([0, 0], [1, 1]), ([1, 1], [0.5, 1.5]), ([0.5, 1.5], [0, 1]), ([0, 1], [0, 0])]])\n",
      "([0.5, 1.5], [0, 1])\n",
      "('seg i', ([0, 0], [1, 0]))\n",
      "('seg j', ([1, 1], [0.5, 1.5]))\n",
      "('new segs', [([0.58578643762690508, 1.4142135623730951], [0, 0]), ([1, 1], [0.58578643762690508, 1.4142135623730951]), ([0.58578643762690508, 1.4142135623730951], [0.5, 1.5]), ([1, 1], [0.58578643762690508, 0]), ([0, 0], [0.58578643762690508, 0]), ([0.58578643762690508, 0], [1, 0])])\n",
      "('divisions', [[([0.58578643762690508, 1.4142135623730951], [0, 0]), ([0, 0], [0.58578643762690508, 0]), ([0.58578643762690508, 0], [1, 1]), ([1, 1], [0.58578643762690508, 1.4142135623730951])], [([0.58578643762690508, 1.4142135623730951], [0.5, 1.5]), ([0.5, 1.5], [0, 1]), ([0, 1], [0, 0]), ([0, 0], [0.58578643762690508, 1.4142135623730951])], [([0.58578643762690508, 0], [1, 0]), ([1, 0], [1, 1]), ([1, 1], [0.58578643762690508, 0])]])\n",
      "('area1', 0.70710678118654757)\n",
      "('area2', 0.33578643762690502)\n",
      "('area3', 0.20710678118654746)\n",
      "('area', 0.625)\n",
      "H\n",
      "('ds', 4)\n",
      "('seg i', ([0, 0], [1, 0]))\n",
      "('seg j', ([0.5, 1.5], [0, 1]))\n",
      "('new segs', [([1, 0], [0.41421356237309492, 1.4142135623730949]), ([0.5, 1.5], [0.41421356237309492, 1.4142135623730949]), ([0.41421356237309492, 1.4142135623730949], [0, 1]), ([0.41421356237309492, 0], [0, 1]), ([0, 0], [0.41421356237309492, 0]), ([0.41421356237309492, 0], [1, 0])])\n",
      "('divisions', [[([0.41421356237309492, 1.4142135623730949], [1, 0]), ([1, 0], [0.41421356237309492, 0]), ([0.41421356237309492, 0], [0, 1]), ([0, 1], [0.41421356237309492, 1.4142135623730949])], [([0, 1], [0.41421356237309492, 0]), ([0.41421356237309492, 0], [0, 0]), ([0, 0], [0, 1])]])\n"
     ]
    },
    {
     "ename": "RuntimeError",
     "evalue": "Could not find the correct segments in the _trapezoid_cut routine. The trapezoid constructed does not have 2 sides from the original shape. This should not be possible.",
     "output_type": "error",
     "traceback": [
      "\u001b[0;31m---------------------------------------------------------------------------\u001b[0m",
      "\u001b[0;31mRuntimeError\u001b[0m                              Traceback (most recent call last)",
      "\u001b[0;32m<ipython-input-2-0b6af7e949d7>\u001b[0m in \u001b[0;36m<module>\u001b[0;34m()\u001b[0m\n\u001b[1;32m      2\u001b[0m \u001b[0mverts\u001b[0m \u001b[0;34m=\u001b[0m \u001b[0;34m[\u001b[0m\u001b[0;34m[\u001b[0m\u001b[0;36m0\u001b[0m\u001b[0;34m,\u001b[0m\u001b[0;36m0\u001b[0m\u001b[0;34m]\u001b[0m\u001b[0;34m,\u001b[0m\u001b[0;34m[\u001b[0m\u001b[0;36m1\u001b[0m\u001b[0;34m,\u001b[0m\u001b[0;36m0\u001b[0m\u001b[0;34m]\u001b[0m\u001b[0;34m,\u001b[0m\u001b[0;34m[\u001b[0m\u001b[0;36m1\u001b[0m\u001b[0;34m,\u001b[0m\u001b[0;36m1\u001b[0m\u001b[0;34m]\u001b[0m\u001b[0;34m,\u001b[0m\u001b[0;34m[\u001b[0m\u001b[0;36m0.5\u001b[0m\u001b[0;34m,\u001b[0m\u001b[0;36m1.5\u001b[0m\u001b[0;34m]\u001b[0m\u001b[0;34m,\u001b[0m\u001b[0;34m[\u001b[0m\u001b[0;36m0\u001b[0m\u001b[0;34m,\u001b[0m\u001b[0;36m1\u001b[0m\u001b[0;34m]\u001b[0m\u001b[0;34m]\u001b[0m\u001b[0;34m\u001b[0m\u001b[0m\n\u001b[1;32m      3\u001b[0m \u001b[0mp\u001b[0m \u001b[0;34m=\u001b[0m \u001b[0mPolygon\u001b[0m\u001b[0;34m(\u001b[0m\u001b[0mverts\u001b[0m\u001b[0;34m)\u001b[0m\u001b[0;34m\u001b[0m\u001b[0m\n\u001b[0;32m----> 4\u001b[0;31m \u001b[0mp\u001b[0m\u001b[0;34m.\u001b[0m\u001b[0msubdivide\u001b[0m\u001b[0;34m(\u001b[0m\u001b[0;36m2\u001b[0m\u001b[0;34m)\u001b[0m\u001b[0;34m\u001b[0m\u001b[0m\n\u001b[0m",
      "\u001b[0;32m/Users/wileymorgan/codes/subdivide/subdivide/polygon.py\u001b[0m in \u001b[0;36msubdivide\u001b[0;34m(self, N)\u001b[0m\n\u001b[1;32m     52\u001b[0m             \u001b[0mremaining_verts\u001b[0m \u001b[0;34m=\u001b[0m \u001b[0mdeepcopy\u001b[0m\u001b[0;34m(\u001b[0m\u001b[0mself\u001b[0m\u001b[0;34m.\u001b[0m\u001b[0mvertices\u001b[0m\u001b[0;34m)\u001b[0m\u001b[0;34m\u001b[0m\u001b[0m\n\u001b[1;32m     53\u001b[0m             \u001b[0;32mwhile\u001b[0m \u001b[0mlen\u001b[0m\u001b[0;34m(\u001b[0m\u001b[0msub_polys\u001b[0m\u001b[0;34m)\u001b[0m \u001b[0;34m<\u001b[0m \u001b[0mN\u001b[0m\u001b[0;34m-\u001b[0m\u001b[0;36m1\u001b[0m\u001b[0;34m:\u001b[0m\u001b[0;34m\u001b[0m\u001b[0m\n\u001b[0;32m---> 54\u001b[0;31m                 \u001b[0msub_poly\u001b[0m\u001b[0;34m,\u001b[0m \u001b[0mremaining_verts\u001b[0m \u001b[0;34m=\u001b[0m \u001b[0mself\u001b[0m\u001b[0;34m.\u001b[0m\u001b[0m_find_subdivision\u001b[0m\u001b[0;34m(\u001b[0m\u001b[0mremaining_verts\u001b[0m\u001b[0;34m,\u001b[0m\u001b[0msubarea\u001b[0m\u001b[0;34m)\u001b[0m\u001b[0;34m\u001b[0m\u001b[0m\n\u001b[0m\u001b[1;32m     55\u001b[0m                 \u001b[0msub_polys\u001b[0m\u001b[0;34m.\u001b[0m\u001b[0mappend\u001b[0m\u001b[0;34m(\u001b[0m\u001b[0msub_poly\u001b[0m\u001b[0;34m)\u001b[0m\u001b[0;34m\u001b[0m\u001b[0m\n\u001b[1;32m     56\u001b[0m             \u001b[0msub_polys\u001b[0m\u001b[0;34m.\u001b[0m\u001b[0mappend\u001b[0m\u001b[0;34m(\u001b[0m\u001b[0mremaining_verts\u001b[0m\u001b[0;34m)\u001b[0m\u001b[0;34m\u001b[0m\u001b[0m\n",
      "\u001b[0;32m/Users/wileymorgan/codes/subdivide/subdivide/polygon.py\u001b[0m in \u001b[0;36m_find_subdivision\u001b[0;34m(self, verts, area)\u001b[0m\n\u001b[1;32m    106\u001b[0m                                 \u001b[0mtest_poly\u001b[0m \u001b[0;34m=\u001b[0m \u001b[0mself\u001b[0m\u001b[0;34m.\u001b[0m\u001b[0m_triangle_cut\u001b[0m\u001b[0;34m(\u001b[0m\u001b[0mdivisions\u001b[0m\u001b[0;34m[\u001b[0m\u001b[0;36m0\u001b[0m\u001b[0;34m]\u001b[0m\u001b[0;34m,\u001b[0m\u001b[0marea\u001b[0m\u001b[0;34m,\u001b[0m\u001b[0msegments\u001b[0m\u001b[0;34m,\u001b[0m\u001b[0mNone\u001b[0m\u001b[0;34m)\u001b[0m\u001b[0;34m\u001b[0m\u001b[0m\n\u001b[1;32m    107\u001b[0m                             \u001b[0;32melif\u001b[0m \u001b[0mlen\u001b[0m\u001b[0;34m(\u001b[0m\u001b[0mdivisions\u001b[0m\u001b[0;34m[\u001b[0m\u001b[0;36m0\u001b[0m\u001b[0;34m]\u001b[0m\u001b[0;34m)\u001b[0m \u001b[0;34m==\u001b[0m \u001b[0;36m4\u001b[0m\u001b[0;34m:\u001b[0m\u001b[0;34m\u001b[0m\u001b[0m\n\u001b[0;32m--> 108\u001b[0;31m                                 \u001b[0mtest_poly\u001b[0m \u001b[0;34m=\u001b[0m \u001b[0mself\u001b[0m\u001b[0;34m.\u001b[0m\u001b[0m_trapezoid_cut\u001b[0m\u001b[0;34m(\u001b[0m\u001b[0mdivisions\u001b[0m\u001b[0;34m[\u001b[0m\u001b[0;36m0\u001b[0m\u001b[0;34m]\u001b[0m\u001b[0;34m,\u001b[0m\u001b[0marea\u001b[0m\u001b[0;34m,\u001b[0m\u001b[0mbisector\u001b[0m\u001b[0;34m,\u001b[0m\u001b[0msegments\u001b[0m\u001b[0;34m,\u001b[0m\u001b[0mNone\u001b[0m\u001b[0;34m)\u001b[0m\u001b[0;34m\u001b[0m\u001b[0m\n\u001b[0m\u001b[1;32m    109\u001b[0m                         \u001b[0;32mif\u001b[0m \u001b[0mself\u001b[0m\u001b[0;34m.\u001b[0m\u001b[0m_find_area\u001b[0m\u001b[0;34m(\u001b[0m\u001b[0msegments\u001b[0m\u001b[0;34m=\u001b[0m\u001b[0mdivisions\u001b[0m\u001b[0;34m[\u001b[0m\u001b[0;36m1\u001b[0m\u001b[0;34m]\u001b[0m\u001b[0;34m)\u001b[0m \u001b[0;34m>\u001b[0m \u001b[0marea\u001b[0m \u001b[0;32mand\u001b[0m \u001b[0mtest_poly\u001b[0m \u001b[0;32mis\u001b[0m \u001b[0mNone\u001b[0m\u001b[0;34m:\u001b[0m\u001b[0;34m\u001b[0m\u001b[0m\n\u001b[1;32m    110\u001b[0m                             \u001b[0;32mif\u001b[0m \u001b[0mlen\u001b[0m\u001b[0;34m(\u001b[0m\u001b[0mdivisions\u001b[0m\u001b[0;34m[\u001b[0m\u001b[0;36m1\u001b[0m\u001b[0;34m]\u001b[0m\u001b[0;34m)\u001b[0m \u001b[0;34m==\u001b[0m \u001b[0;36m3\u001b[0m\u001b[0;34m:\u001b[0m\u001b[0;34m\u001b[0m\u001b[0m\n",
      "\u001b[0;32m/Users/wileymorgan/codes/subdivide/subdivide/polygon.py\u001b[0m in \u001b[0;36m_trapezoid_cut\u001b[0;34m(self, segments, total_area, bisector, orig_segments, rest_of_poly)\u001b[0m\n\u001b[1;32m    600\u001b[0m \u001b[0;34m\u001b[0m\u001b[0m\n\u001b[1;32m    601\u001b[0m         \u001b[0;32mif\u001b[0m \u001b[0morder\u001b[0m \u001b[0;32mis\u001b[0m \u001b[0mNone\u001b[0m\u001b[0;34m:\u001b[0m\u001b[0;34m\u001b[0m\u001b[0m\n\u001b[0;32m--> 602\u001b[0;31m             raise RuntimeError(\"Could not find the correct segments in the _trapezoid_cut \"\n\u001b[0m\u001b[1;32m    603\u001b[0m                          \u001b[0;34m\"routine. The trapezoid constructed does not have 2 sides from the \"\u001b[0m\u001b[0;34m\u001b[0m\u001b[0m\n\u001b[1;32m    604\u001b[0m                          \"original shape. This should not be possible.\")\n",
      "\u001b[0;31mRuntimeError\u001b[0m: Could not find the correct segments in the _trapezoid_cut routine. The trapezoid constructed does not have 2 sides from the original shape. This should not be possible."
     ]
    }
   ],
   "source": [
    "#verts = [[0,0],[1,0],[1,1],[0,1]]\n",
    "verts = [[0,0],[1,0],[1,1],[0.5,1.5],[0,1]]\n",
    "p = Polygon(verts)\n",
    "p.subdivide(2)"
   ]
  },
  {
   "cell_type": "code",
   "execution_count": null,
   "metadata": {
    "collapsed": true
   },
   "outputs": [],
   "source": []
  }
 ],
 "metadata": {
  "kernelspec": {
   "display_name": "Python 2",
   "language": "python",
   "name": "python2"
  },
  "language_info": {
   "codemirror_mode": {
    "name": "ipython",
    "version": 2
   },
   "file_extension": ".py",
   "mimetype": "text/x-python",
   "name": "python",
   "nbconvert_exporter": "python",
   "pygments_lexer": "ipython2",
   "version": "2.7.9"
  }
 },
 "nbformat": 4,
 "nbformat_minor": 2
}
